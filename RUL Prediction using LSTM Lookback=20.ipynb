{
 "cells": [
  {
   "cell_type": "markdown",
   "metadata": {},
   "source": [
    "# Run to Failure degradation simulation of NASA Turbo Jet Engine Fans"
   ]
  },
  {
   "cell_type": "markdown",
   "metadata": {},
   "source": [
    "# <a id='index'>Index</a>"
   ]
  },
  {
   "cell_type": "markdown",
   "metadata": {},
   "source": [
    "+ <a href='#data_analysis'>1. Data Analysis</a>\n",
    "    + <a href='#info_about_data'>1.1 Info about data:</a>\n",
    "+ <a href='#noise_removal'>2. Noise removal and Normalization</a>\n",
    "+ <a href='#training_and_validation'>3. Training and Validation</a>\n",
    "+ <a href='#testing'>4 Testing</a>"
   ]
  },
  {
   "cell_type": "code",
   "execution_count": 1,
   "metadata": {},
   "outputs": [],
   "source": [
    "import numpy as np\n",
    "import pandas as pd\n",
    "import seaborn as sns\n",
    "import math\n",
    "import matplotlib.pyplot as plt\n",
    "from matplotlib import cm\n",
    "\n",
    "from sklearn.decomposition import PCA\n",
    "from sklearn.preprocessing import MinMaxScaler\n",
    "from sklearn.model_selection import train_test_split, cross_val_score\n",
    "from sklearn.preprocessing import QuantileTransformer , PowerTransformer\n",
    "from sklearn.ensemble import RandomForestRegressor\n",
    "from sklearn.metrics import mean_absolute_error\n",
    "from sklearn.metrics import r2_score\n",
    "from sklearn.metrics import accuracy_score\n",
    "from sklearn.metrics import mean_squared_error\n",
    "from sklearn.linear_model import LinearRegression\n",
    "from sklearn.linear_model import LogisticRegression\n",
    "\n",
    "from keras import optimizers\n",
    "from keras.models import Sequential\n",
    "from keras.layers import TimeDistributed, Flatten\n",
    "from keras.layers.core import Dense, Dropout, Activation\n",
    "from keras.layers.recurrent import LSTM\n",
    "from sklearn.metrics import mean_squared_error\n",
    "\n",
    "import warnings \n",
    "warnings.filterwarnings('ignore')\n",
    "\n",
    "%matplotlib inline\n",
    "cmap = cm.get_cmap('Spectral') # Colour map (there are many others)\n",
    "\n",
    "from sklearn.metrics import mean_absolute_error\n",
    "from sklearn.metrics import mean_squared_error\n",
    "from sklearn.metrics import explained_variance_score\n",
    "from sklearn.metrics import r2_score\n",
    "\n",
    "from keras.models import load_model"
   ]
  },
  {
   "cell_type": "markdown",
   "metadata": {},
   "source": [
    "# <a id='data_analysis'>1. Data analysis</a>\n",
    "<a href='#index'>Go back to Index</a>"
   ]
  },
  {
   "cell_type": "code",
   "execution_count": 2,
   "metadata": {},
   "outputs": [
    {
     "data": {
      "text/html": [
       "<div>\n",
       "<style scoped>\n",
       "    .dataframe tbody tr th:only-of-type {\n",
       "        vertical-align: middle;\n",
       "    }\n",
       "\n",
       "    .dataframe tbody tr th {\n",
       "        vertical-align: top;\n",
       "    }\n",
       "\n",
       "    .dataframe thead th {\n",
       "        text-align: right;\n",
       "    }\n",
       "</style>\n",
       "<table border=\"1\" class=\"dataframe\">\n",
       "  <thead>\n",
       "    <tr style=\"text-align: right;\">\n",
       "      <th></th>\n",
       "      <th>0</th>\n",
       "      <th>1</th>\n",
       "      <th>2</th>\n",
       "      <th>3</th>\n",
       "      <th>4</th>\n",
       "      <th>5</th>\n",
       "      <th>6</th>\n",
       "      <th>7</th>\n",
       "      <th>8</th>\n",
       "      <th>9</th>\n",
       "      <th>...</th>\n",
       "      <th>18</th>\n",
       "      <th>19</th>\n",
       "      <th>20</th>\n",
       "      <th>21</th>\n",
       "      <th>22</th>\n",
       "      <th>23</th>\n",
       "      <th>24</th>\n",
       "      <th>25</th>\n",
       "      <th>26</th>\n",
       "      <th>27</th>\n",
       "    </tr>\n",
       "  </thead>\n",
       "  <tbody>\n",
       "    <tr>\n",
       "      <th>0</th>\n",
       "      <td>1</td>\n",
       "      <td>1</td>\n",
       "      <td>-0.0007</td>\n",
       "      <td>-0.0004</td>\n",
       "      <td>100.0</td>\n",
       "      <td>518.67</td>\n",
       "      <td>641.82</td>\n",
       "      <td>1589.70</td>\n",
       "      <td>1400.60</td>\n",
       "      <td>14.62</td>\n",
       "      <td>...</td>\n",
       "      <td>8138.62</td>\n",
       "      <td>8.4195</td>\n",
       "      <td>0.03</td>\n",
       "      <td>392</td>\n",
       "      <td>2388</td>\n",
       "      <td>100.0</td>\n",
       "      <td>39.06</td>\n",
       "      <td>23.4190</td>\n",
       "      <td>NaN</td>\n",
       "      <td>NaN</td>\n",
       "    </tr>\n",
       "    <tr>\n",
       "      <th>1</th>\n",
       "      <td>1</td>\n",
       "      <td>2</td>\n",
       "      <td>0.0019</td>\n",
       "      <td>-0.0003</td>\n",
       "      <td>100.0</td>\n",
       "      <td>518.67</td>\n",
       "      <td>642.15</td>\n",
       "      <td>1591.82</td>\n",
       "      <td>1403.14</td>\n",
       "      <td>14.62</td>\n",
       "      <td>...</td>\n",
       "      <td>8131.49</td>\n",
       "      <td>8.4318</td>\n",
       "      <td>0.03</td>\n",
       "      <td>392</td>\n",
       "      <td>2388</td>\n",
       "      <td>100.0</td>\n",
       "      <td>39.00</td>\n",
       "      <td>23.4236</td>\n",
       "      <td>NaN</td>\n",
       "      <td>NaN</td>\n",
       "    </tr>\n",
       "    <tr>\n",
       "      <th>2</th>\n",
       "      <td>1</td>\n",
       "      <td>3</td>\n",
       "      <td>-0.0043</td>\n",
       "      <td>0.0003</td>\n",
       "      <td>100.0</td>\n",
       "      <td>518.67</td>\n",
       "      <td>642.35</td>\n",
       "      <td>1587.99</td>\n",
       "      <td>1404.20</td>\n",
       "      <td>14.62</td>\n",
       "      <td>...</td>\n",
       "      <td>8133.23</td>\n",
       "      <td>8.4178</td>\n",
       "      <td>0.03</td>\n",
       "      <td>390</td>\n",
       "      <td>2388</td>\n",
       "      <td>100.0</td>\n",
       "      <td>38.95</td>\n",
       "      <td>23.3442</td>\n",
       "      <td>NaN</td>\n",
       "      <td>NaN</td>\n",
       "    </tr>\n",
       "    <tr>\n",
       "      <th>3</th>\n",
       "      <td>1</td>\n",
       "      <td>4</td>\n",
       "      <td>0.0007</td>\n",
       "      <td>0.0000</td>\n",
       "      <td>100.0</td>\n",
       "      <td>518.67</td>\n",
       "      <td>642.35</td>\n",
       "      <td>1582.79</td>\n",
       "      <td>1401.87</td>\n",
       "      <td>14.62</td>\n",
       "      <td>...</td>\n",
       "      <td>8133.83</td>\n",
       "      <td>8.3682</td>\n",
       "      <td>0.03</td>\n",
       "      <td>392</td>\n",
       "      <td>2388</td>\n",
       "      <td>100.0</td>\n",
       "      <td>38.88</td>\n",
       "      <td>23.3739</td>\n",
       "      <td>NaN</td>\n",
       "      <td>NaN</td>\n",
       "    </tr>\n",
       "    <tr>\n",
       "      <th>4</th>\n",
       "      <td>1</td>\n",
       "      <td>5</td>\n",
       "      <td>-0.0019</td>\n",
       "      <td>-0.0002</td>\n",
       "      <td>100.0</td>\n",
       "      <td>518.67</td>\n",
       "      <td>642.37</td>\n",
       "      <td>1582.85</td>\n",
       "      <td>1406.22</td>\n",
       "      <td>14.62</td>\n",
       "      <td>...</td>\n",
       "      <td>8133.80</td>\n",
       "      <td>8.4294</td>\n",
       "      <td>0.03</td>\n",
       "      <td>393</td>\n",
       "      <td>2388</td>\n",
       "      <td>100.0</td>\n",
       "      <td>38.90</td>\n",
       "      <td>23.4044</td>\n",
       "      <td>NaN</td>\n",
       "      <td>NaN</td>\n",
       "    </tr>\n",
       "  </tbody>\n",
       "</table>\n",
       "<p>5 rows × 28 columns</p>\n",
       "</div>"
      ],
      "text/plain": [
       "   0   1       2       3      4       5       6        7        8      9   \\\n",
       "0   1   1 -0.0007 -0.0004  100.0  518.67  641.82  1589.70  1400.60  14.62   \n",
       "1   1   2  0.0019 -0.0003  100.0  518.67  642.15  1591.82  1403.14  14.62   \n",
       "2   1   3 -0.0043  0.0003  100.0  518.67  642.35  1587.99  1404.20  14.62   \n",
       "3   1   4  0.0007  0.0000  100.0  518.67  642.35  1582.79  1401.87  14.62   \n",
       "4   1   5 -0.0019 -0.0002  100.0  518.67  642.37  1582.85  1406.22  14.62   \n",
       "\n",
       "   ...       18      19    20   21    22     23     24       25  26  27  \n",
       "0  ...  8138.62  8.4195  0.03  392  2388  100.0  39.06  23.4190 NaN NaN  \n",
       "1  ...  8131.49  8.4318  0.03  392  2388  100.0  39.00  23.4236 NaN NaN  \n",
       "2  ...  8133.23  8.4178  0.03  390  2388  100.0  38.95  23.3442 NaN NaN  \n",
       "3  ...  8133.83  8.3682  0.03  392  2388  100.0  38.88  23.3739 NaN NaN  \n",
       "4  ...  8133.80  8.4294  0.03  393  2388  100.0  38.90  23.4044 NaN NaN  \n",
       "\n",
       "[5 rows x 28 columns]"
      ]
     },
     "execution_count": 2,
     "metadata": {},
     "output_type": "execute_result"
    }
   ],
   "source": [
    "train_file = \"train_FD001.txt\" \n",
    "test_file = \"test_FD001.txt\"\n",
    "RUL_file = \"RUL_FD001.txt\"\n",
    "\n",
    "df = pd.read_csv(train_file,sep=\" \",header=None)\n",
    "df.head()"
   ]
  },
  {
   "cell_type": "code",
   "execution_count": 3,
   "metadata": {},
   "outputs": [
    {
     "data": {
      "text/html": [
       "<div>\n",
       "<style scoped>\n",
       "    .dataframe tbody tr th:only-of-type {\n",
       "        vertical-align: middle;\n",
       "    }\n",
       "\n",
       "    .dataframe tbody tr th {\n",
       "        vertical-align: top;\n",
       "    }\n",
       "\n",
       "    .dataframe thead th {\n",
       "        text-align: right;\n",
       "    }\n",
       "</style>\n",
       "<table border=\"1\" class=\"dataframe\">\n",
       "  <thead>\n",
       "    <tr style=\"text-align: right;\">\n",
       "      <th></th>\n",
       "      <th>Section-0</th>\n",
       "      <th>Section-1</th>\n",
       "      <th>Section-2</th>\n",
       "      <th>Section-3</th>\n",
       "      <th>Section-4</th>\n",
       "      <th>Section-5</th>\n",
       "      <th>Section-6</th>\n",
       "      <th>Section-7</th>\n",
       "      <th>Section-8</th>\n",
       "      <th>Section-9</th>\n",
       "      <th>...</th>\n",
       "      <th>Section-16</th>\n",
       "      <th>Section-17</th>\n",
       "      <th>Section-18</th>\n",
       "      <th>Section-19</th>\n",
       "      <th>Section-20</th>\n",
       "      <th>Section-21</th>\n",
       "      <th>Section-22</th>\n",
       "      <th>Section-23</th>\n",
       "      <th>Section-24</th>\n",
       "      <th>Section-25</th>\n",
       "    </tr>\n",
       "  </thead>\n",
       "  <tbody>\n",
       "    <tr>\n",
       "      <th>0</th>\n",
       "      <td>1</td>\n",
       "      <td>1</td>\n",
       "      <td>-0.0007</td>\n",
       "      <td>-0.0004</td>\n",
       "      <td>100.0</td>\n",
       "      <td>518.67</td>\n",
       "      <td>641.82</td>\n",
       "      <td>1589.70</td>\n",
       "      <td>1400.60</td>\n",
       "      <td>14.62</td>\n",
       "      <td>...</td>\n",
       "      <td>521.66</td>\n",
       "      <td>2388.02</td>\n",
       "      <td>8138.62</td>\n",
       "      <td>8.4195</td>\n",
       "      <td>0.03</td>\n",
       "      <td>392</td>\n",
       "      <td>2388</td>\n",
       "      <td>100.0</td>\n",
       "      <td>39.06</td>\n",
       "      <td>23.4190</td>\n",
       "    </tr>\n",
       "    <tr>\n",
       "      <th>1</th>\n",
       "      <td>1</td>\n",
       "      <td>2</td>\n",
       "      <td>0.0019</td>\n",
       "      <td>-0.0003</td>\n",
       "      <td>100.0</td>\n",
       "      <td>518.67</td>\n",
       "      <td>642.15</td>\n",
       "      <td>1591.82</td>\n",
       "      <td>1403.14</td>\n",
       "      <td>14.62</td>\n",
       "      <td>...</td>\n",
       "      <td>522.28</td>\n",
       "      <td>2388.07</td>\n",
       "      <td>8131.49</td>\n",
       "      <td>8.4318</td>\n",
       "      <td>0.03</td>\n",
       "      <td>392</td>\n",
       "      <td>2388</td>\n",
       "      <td>100.0</td>\n",
       "      <td>39.00</td>\n",
       "      <td>23.4236</td>\n",
       "    </tr>\n",
       "    <tr>\n",
       "      <th>2</th>\n",
       "      <td>1</td>\n",
       "      <td>3</td>\n",
       "      <td>-0.0043</td>\n",
       "      <td>0.0003</td>\n",
       "      <td>100.0</td>\n",
       "      <td>518.67</td>\n",
       "      <td>642.35</td>\n",
       "      <td>1587.99</td>\n",
       "      <td>1404.20</td>\n",
       "      <td>14.62</td>\n",
       "      <td>...</td>\n",
       "      <td>522.42</td>\n",
       "      <td>2388.03</td>\n",
       "      <td>8133.23</td>\n",
       "      <td>8.4178</td>\n",
       "      <td>0.03</td>\n",
       "      <td>390</td>\n",
       "      <td>2388</td>\n",
       "      <td>100.0</td>\n",
       "      <td>38.95</td>\n",
       "      <td>23.3442</td>\n",
       "    </tr>\n",
       "    <tr>\n",
       "      <th>3</th>\n",
       "      <td>1</td>\n",
       "      <td>4</td>\n",
       "      <td>0.0007</td>\n",
       "      <td>0.0000</td>\n",
       "      <td>100.0</td>\n",
       "      <td>518.67</td>\n",
       "      <td>642.35</td>\n",
       "      <td>1582.79</td>\n",
       "      <td>1401.87</td>\n",
       "      <td>14.62</td>\n",
       "      <td>...</td>\n",
       "      <td>522.86</td>\n",
       "      <td>2388.08</td>\n",
       "      <td>8133.83</td>\n",
       "      <td>8.3682</td>\n",
       "      <td>0.03</td>\n",
       "      <td>392</td>\n",
       "      <td>2388</td>\n",
       "      <td>100.0</td>\n",
       "      <td>38.88</td>\n",
       "      <td>23.3739</td>\n",
       "    </tr>\n",
       "    <tr>\n",
       "      <th>4</th>\n",
       "      <td>1</td>\n",
       "      <td>5</td>\n",
       "      <td>-0.0019</td>\n",
       "      <td>-0.0002</td>\n",
       "      <td>100.0</td>\n",
       "      <td>518.67</td>\n",
       "      <td>642.37</td>\n",
       "      <td>1582.85</td>\n",
       "      <td>1406.22</td>\n",
       "      <td>14.62</td>\n",
       "      <td>...</td>\n",
       "      <td>522.19</td>\n",
       "      <td>2388.04</td>\n",
       "      <td>8133.80</td>\n",
       "      <td>8.4294</td>\n",
       "      <td>0.03</td>\n",
       "      <td>393</td>\n",
       "      <td>2388</td>\n",
       "      <td>100.0</td>\n",
       "      <td>38.90</td>\n",
       "      <td>23.4044</td>\n",
       "    </tr>\n",
       "  </tbody>\n",
       "</table>\n",
       "<p>5 rows × 26 columns</p>\n",
       "</div>"
      ],
      "text/plain": [
       "   Section-0  Section-1  Section-2  Section-3  Section-4  Section-5  \\\n",
       "0          1          1    -0.0007    -0.0004      100.0     518.67   \n",
       "1          1          2     0.0019    -0.0003      100.0     518.67   \n",
       "2          1          3    -0.0043     0.0003      100.0     518.67   \n",
       "3          1          4     0.0007     0.0000      100.0     518.67   \n",
       "4          1          5    -0.0019    -0.0002      100.0     518.67   \n",
       "\n",
       "   Section-6  Section-7  Section-8  Section-9  ...  Section-16  Section-17  \\\n",
       "0     641.82    1589.70    1400.60      14.62  ...      521.66     2388.02   \n",
       "1     642.15    1591.82    1403.14      14.62  ...      522.28     2388.07   \n",
       "2     642.35    1587.99    1404.20      14.62  ...      522.42     2388.03   \n",
       "3     642.35    1582.79    1401.87      14.62  ...      522.86     2388.08   \n",
       "4     642.37    1582.85    1406.22      14.62  ...      522.19     2388.04   \n",
       "\n",
       "   Section-18  Section-19  Section-20  Section-21  Section-22  Section-23  \\\n",
       "0     8138.62      8.4195        0.03         392        2388       100.0   \n",
       "1     8131.49      8.4318        0.03         392        2388       100.0   \n",
       "2     8133.23      8.4178        0.03         390        2388       100.0   \n",
       "3     8133.83      8.3682        0.03         392        2388       100.0   \n",
       "4     8133.80      8.4294        0.03         393        2388       100.0   \n",
       "\n",
       "   Section-24  Section-25  \n",
       "0       39.06     23.4190  \n",
       "1       39.00     23.4236  \n",
       "2       38.95     23.3442  \n",
       "3       38.88     23.3739  \n",
       "4       38.90     23.4044  \n",
       "\n",
       "[5 rows x 26 columns]"
      ]
     },
     "execution_count": 3,
     "metadata": {},
     "output_type": "execute_result"
    }
   ],
   "source": [
    "#columns = ['unit_number','time_in_cycles','setting_1','setting_2','TRA','T2','T24','T30','T50','P2','P15','P30','Nf',\n",
    "#           'Nc','epr','Ps3 0','phi','NRf','NRc','BPR','farB','htBleed','Nf_dmd','PCNfR_dmd','W31','W32' ]\n",
    "#delete NaN values\n",
    "df.drop(columns=[26,27],inplace=True)\n",
    "columns = [\"Section-{}\".format(i)  for i in range(26)]\n",
    "df.columns = columns\n",
    "df.head()"
   ]
  },
  {
   "cell_type": "markdown",
   "metadata": {},
   "source": [
    "#### Dataset statistics  for each parameter"
   ]
  },
  {
   "cell_type": "code",
   "execution_count": 4,
   "metadata": {
    "scrolled": true
   },
   "outputs": [
    {
     "data": {
      "text/html": [
       "<div>\n",
       "<style scoped>\n",
       "    .dataframe tbody tr th:only-of-type {\n",
       "        vertical-align: middle;\n",
       "    }\n",
       "\n",
       "    .dataframe tbody tr th {\n",
       "        vertical-align: top;\n",
       "    }\n",
       "\n",
       "    .dataframe thead th {\n",
       "        text-align: right;\n",
       "    }\n",
       "</style>\n",
       "<table border=\"1\" class=\"dataframe\">\n",
       "  <thead>\n",
       "    <tr style=\"text-align: right;\">\n",
       "      <th></th>\n",
       "      <th>Section-0</th>\n",
       "      <th>Section-1</th>\n",
       "      <th>Section-2</th>\n",
       "      <th>Section-3</th>\n",
       "      <th>Section-4</th>\n",
       "      <th>Section-5</th>\n",
       "      <th>Section-6</th>\n",
       "      <th>Section-7</th>\n",
       "      <th>Section-8</th>\n",
       "      <th>Section-9</th>\n",
       "      <th>...</th>\n",
       "      <th>Section-16</th>\n",
       "      <th>Section-17</th>\n",
       "      <th>Section-18</th>\n",
       "      <th>Section-19</th>\n",
       "      <th>Section-20</th>\n",
       "      <th>Section-21</th>\n",
       "      <th>Section-22</th>\n",
       "      <th>Section-23</th>\n",
       "      <th>Section-24</th>\n",
       "      <th>Section-25</th>\n",
       "    </tr>\n",
       "  </thead>\n",
       "  <tbody>\n",
       "    <tr>\n",
       "      <th>count</th>\n",
       "      <td>20631.000000</td>\n",
       "      <td>20631.000000</td>\n",
       "      <td>20631.000000</td>\n",
       "      <td>20631.000000</td>\n",
       "      <td>20631.0</td>\n",
       "      <td>2.063100e+04</td>\n",
       "      <td>20631.000000</td>\n",
       "      <td>20631.000000</td>\n",
       "      <td>20631.000000</td>\n",
       "      <td>2.063100e+04</td>\n",
       "      <td>...</td>\n",
       "      <td>20631.000000</td>\n",
       "      <td>20631.000000</td>\n",
       "      <td>20631.000000</td>\n",
       "      <td>20631.000000</td>\n",
       "      <td>2.063100e+04</td>\n",
       "      <td>20631.000000</td>\n",
       "      <td>20631.0</td>\n",
       "      <td>20631.0</td>\n",
       "      <td>20631.000000</td>\n",
       "      <td>20631.000000</td>\n",
       "    </tr>\n",
       "    <tr>\n",
       "      <th>mean</th>\n",
       "      <td>51.506568</td>\n",
       "      <td>108.807862</td>\n",
       "      <td>-0.000009</td>\n",
       "      <td>0.000002</td>\n",
       "      <td>100.0</td>\n",
       "      <td>5.186700e+02</td>\n",
       "      <td>642.680934</td>\n",
       "      <td>1590.523119</td>\n",
       "      <td>1408.933782</td>\n",
       "      <td>1.462000e+01</td>\n",
       "      <td>...</td>\n",
       "      <td>521.413470</td>\n",
       "      <td>2388.096152</td>\n",
       "      <td>8143.752722</td>\n",
       "      <td>8.442146</td>\n",
       "      <td>3.000000e-02</td>\n",
       "      <td>393.210654</td>\n",
       "      <td>2388.0</td>\n",
       "      <td>100.0</td>\n",
       "      <td>38.816271</td>\n",
       "      <td>23.289705</td>\n",
       "    </tr>\n",
       "    <tr>\n",
       "      <th>std</th>\n",
       "      <td>29.227633</td>\n",
       "      <td>68.880990</td>\n",
       "      <td>0.002187</td>\n",
       "      <td>0.000293</td>\n",
       "      <td>0.0</td>\n",
       "      <td>6.537152e-11</td>\n",
       "      <td>0.500053</td>\n",
       "      <td>6.131150</td>\n",
       "      <td>9.000605</td>\n",
       "      <td>3.394700e-12</td>\n",
       "      <td>...</td>\n",
       "      <td>0.737553</td>\n",
       "      <td>0.071919</td>\n",
       "      <td>19.076176</td>\n",
       "      <td>0.037505</td>\n",
       "      <td>1.556432e-14</td>\n",
       "      <td>1.548763</td>\n",
       "      <td>0.0</td>\n",
       "      <td>0.0</td>\n",
       "      <td>0.180746</td>\n",
       "      <td>0.108251</td>\n",
       "    </tr>\n",
       "    <tr>\n",
       "      <th>min</th>\n",
       "      <td>1.000000</td>\n",
       "      <td>1.000000</td>\n",
       "      <td>-0.008700</td>\n",
       "      <td>-0.000600</td>\n",
       "      <td>100.0</td>\n",
       "      <td>5.186700e+02</td>\n",
       "      <td>641.210000</td>\n",
       "      <td>1571.040000</td>\n",
       "      <td>1382.250000</td>\n",
       "      <td>1.462000e+01</td>\n",
       "      <td>...</td>\n",
       "      <td>518.690000</td>\n",
       "      <td>2387.880000</td>\n",
       "      <td>8099.940000</td>\n",
       "      <td>8.324900</td>\n",
       "      <td>3.000000e-02</td>\n",
       "      <td>388.000000</td>\n",
       "      <td>2388.0</td>\n",
       "      <td>100.0</td>\n",
       "      <td>38.140000</td>\n",
       "      <td>22.894200</td>\n",
       "    </tr>\n",
       "    <tr>\n",
       "      <th>25%</th>\n",
       "      <td>26.000000</td>\n",
       "      <td>52.000000</td>\n",
       "      <td>-0.001500</td>\n",
       "      <td>-0.000200</td>\n",
       "      <td>100.0</td>\n",
       "      <td>5.186700e+02</td>\n",
       "      <td>642.325000</td>\n",
       "      <td>1586.260000</td>\n",
       "      <td>1402.360000</td>\n",
       "      <td>1.462000e+01</td>\n",
       "      <td>...</td>\n",
       "      <td>520.960000</td>\n",
       "      <td>2388.040000</td>\n",
       "      <td>8133.245000</td>\n",
       "      <td>8.414900</td>\n",
       "      <td>3.000000e-02</td>\n",
       "      <td>392.000000</td>\n",
       "      <td>2388.0</td>\n",
       "      <td>100.0</td>\n",
       "      <td>38.700000</td>\n",
       "      <td>23.221800</td>\n",
       "    </tr>\n",
       "    <tr>\n",
       "      <th>50%</th>\n",
       "      <td>52.000000</td>\n",
       "      <td>104.000000</td>\n",
       "      <td>0.000000</td>\n",
       "      <td>0.000000</td>\n",
       "      <td>100.0</td>\n",
       "      <td>5.186700e+02</td>\n",
       "      <td>642.640000</td>\n",
       "      <td>1590.100000</td>\n",
       "      <td>1408.040000</td>\n",
       "      <td>1.462000e+01</td>\n",
       "      <td>...</td>\n",
       "      <td>521.480000</td>\n",
       "      <td>2388.090000</td>\n",
       "      <td>8140.540000</td>\n",
       "      <td>8.438900</td>\n",
       "      <td>3.000000e-02</td>\n",
       "      <td>393.000000</td>\n",
       "      <td>2388.0</td>\n",
       "      <td>100.0</td>\n",
       "      <td>38.830000</td>\n",
       "      <td>23.297900</td>\n",
       "    </tr>\n",
       "    <tr>\n",
       "      <th>75%</th>\n",
       "      <td>77.000000</td>\n",
       "      <td>156.000000</td>\n",
       "      <td>0.001500</td>\n",
       "      <td>0.000300</td>\n",
       "      <td>100.0</td>\n",
       "      <td>5.186700e+02</td>\n",
       "      <td>643.000000</td>\n",
       "      <td>1594.380000</td>\n",
       "      <td>1414.555000</td>\n",
       "      <td>1.462000e+01</td>\n",
       "      <td>...</td>\n",
       "      <td>521.950000</td>\n",
       "      <td>2388.140000</td>\n",
       "      <td>8148.310000</td>\n",
       "      <td>8.465600</td>\n",
       "      <td>3.000000e-02</td>\n",
       "      <td>394.000000</td>\n",
       "      <td>2388.0</td>\n",
       "      <td>100.0</td>\n",
       "      <td>38.950000</td>\n",
       "      <td>23.366800</td>\n",
       "    </tr>\n",
       "    <tr>\n",
       "      <th>max</th>\n",
       "      <td>100.000000</td>\n",
       "      <td>362.000000</td>\n",
       "      <td>0.008700</td>\n",
       "      <td>0.000600</td>\n",
       "      <td>100.0</td>\n",
       "      <td>5.186700e+02</td>\n",
       "      <td>644.530000</td>\n",
       "      <td>1616.910000</td>\n",
       "      <td>1441.490000</td>\n",
       "      <td>1.462000e+01</td>\n",
       "      <td>...</td>\n",
       "      <td>523.380000</td>\n",
       "      <td>2388.560000</td>\n",
       "      <td>8293.720000</td>\n",
       "      <td>8.584800</td>\n",
       "      <td>3.000000e-02</td>\n",
       "      <td>400.000000</td>\n",
       "      <td>2388.0</td>\n",
       "      <td>100.0</td>\n",
       "      <td>39.430000</td>\n",
       "      <td>23.618400</td>\n",
       "    </tr>\n",
       "  </tbody>\n",
       "</table>\n",
       "<p>8 rows × 26 columns</p>\n",
       "</div>"
      ],
      "text/plain": [
       "          Section-0     Section-1     Section-2     Section-3  Section-4  \\\n",
       "count  20631.000000  20631.000000  20631.000000  20631.000000    20631.0   \n",
       "mean      51.506568    108.807862     -0.000009      0.000002      100.0   \n",
       "std       29.227633     68.880990      0.002187      0.000293        0.0   \n",
       "min        1.000000      1.000000     -0.008700     -0.000600      100.0   \n",
       "25%       26.000000     52.000000     -0.001500     -0.000200      100.0   \n",
       "50%       52.000000    104.000000      0.000000      0.000000      100.0   \n",
       "75%       77.000000    156.000000      0.001500      0.000300      100.0   \n",
       "max      100.000000    362.000000      0.008700      0.000600      100.0   \n",
       "\n",
       "          Section-5     Section-6     Section-7     Section-8     Section-9  \\\n",
       "count  2.063100e+04  20631.000000  20631.000000  20631.000000  2.063100e+04   \n",
       "mean   5.186700e+02    642.680934   1590.523119   1408.933782  1.462000e+01   \n",
       "std    6.537152e-11      0.500053      6.131150      9.000605  3.394700e-12   \n",
       "min    5.186700e+02    641.210000   1571.040000   1382.250000  1.462000e+01   \n",
       "25%    5.186700e+02    642.325000   1586.260000   1402.360000  1.462000e+01   \n",
       "50%    5.186700e+02    642.640000   1590.100000   1408.040000  1.462000e+01   \n",
       "75%    5.186700e+02    643.000000   1594.380000   1414.555000  1.462000e+01   \n",
       "max    5.186700e+02    644.530000   1616.910000   1441.490000  1.462000e+01   \n",
       "\n",
       "       ...    Section-16    Section-17    Section-18    Section-19  \\\n",
       "count  ...  20631.000000  20631.000000  20631.000000  20631.000000   \n",
       "mean   ...    521.413470   2388.096152   8143.752722      8.442146   \n",
       "std    ...      0.737553      0.071919     19.076176      0.037505   \n",
       "min    ...    518.690000   2387.880000   8099.940000      8.324900   \n",
       "25%    ...    520.960000   2388.040000   8133.245000      8.414900   \n",
       "50%    ...    521.480000   2388.090000   8140.540000      8.438900   \n",
       "75%    ...    521.950000   2388.140000   8148.310000      8.465600   \n",
       "max    ...    523.380000   2388.560000   8293.720000      8.584800   \n",
       "\n",
       "         Section-20    Section-21  Section-22  Section-23    Section-24  \\\n",
       "count  2.063100e+04  20631.000000     20631.0     20631.0  20631.000000   \n",
       "mean   3.000000e-02    393.210654      2388.0       100.0     38.816271   \n",
       "std    1.556432e-14      1.548763         0.0         0.0      0.180746   \n",
       "min    3.000000e-02    388.000000      2388.0       100.0     38.140000   \n",
       "25%    3.000000e-02    392.000000      2388.0       100.0     38.700000   \n",
       "50%    3.000000e-02    393.000000      2388.0       100.0     38.830000   \n",
       "75%    3.000000e-02    394.000000      2388.0       100.0     38.950000   \n",
       "max    3.000000e-02    400.000000      2388.0       100.0     39.430000   \n",
       "\n",
       "         Section-25  \n",
       "count  20631.000000  \n",
       "mean      23.289705  \n",
       "std        0.108251  \n",
       "min       22.894200  \n",
       "25%       23.221800  \n",
       "50%       23.297900  \n",
       "75%       23.366800  \n",
       "max       23.618400  \n",
       "\n",
       "[8 rows x 26 columns]"
      ]
     },
     "execution_count": 4,
     "metadata": {},
     "output_type": "execute_result"
    }
   ],
   "source": [
    "df.describe()"
   ]
  },
  {
   "cell_type": "markdown",
   "metadata": {},
   "source": [
    "## <a id='info_about_data'>1.1 Info about data:</a>\n",
    "- Section-0 is MachineID\n",
    "- Section-1 is time in, Cycles\n",
    "- Section-2...4 is Opertional Settings\n",
    "- Section-5...25 is sensor's data \n",
    "\n",
    "\n",
    "- Data Set: FD001\n",
    "- Train trjectories: 100\n",
    "- Test trajectories: 100\n",
    "- Conditions: ONE (Sea Level)\n",
    "- Fault Modes: ONE (HPC Degradation)"
   ]
  },
  {
   "cell_type": "code",
   "execution_count": 5,
   "metadata": {},
   "outputs": [],
   "source": [
    "# Names \n",
    "MachineID_name = [\"Section-0\"]\n",
    "RUL_name = [\"Section-1\"]\n",
    "OS_name = [\"Section-{}\".format(i) for i in range(2,5)]\n",
    "Sensor_name = [\"Section-{}\".format(i) for i in range(5,26)]\n",
    "\n",
    "# Data in pandas DataFrame\n",
    "MachineID_data = df[MachineID_name]\n",
    "RUL_data = df[RUL_name]\n",
    "OS_data = df[OS_name]\n",
    "Sensor_data = df[Sensor_name]\n",
    "\n",
    "# Data in pandas Series\n",
    "MachineID_series = df[\"Section-0\"]\n",
    "RUL_series = df[\"Section-1\"]"
   ]
  },
  {
   "cell_type": "code",
   "execution_count": 6,
   "metadata": {},
   "outputs": [
    {
     "name": "stdout",
     "output_type": "stream",
     "text": [
      "Max Life >>  362\n",
      "Mean Life >>  206.31\n",
      "Min Life >>  128\n"
     ]
    }
   ],
   "source": [
    "grp = RUL_data.groupby(MachineID_series)\n",
    "max_cycles = np.array([max(grp.get_group(i)[\"Section-1\"]) for i in MachineID_series.unique()])\n",
    "print(\"Max Life >> \",max(max_cycles))\n",
    "print(\"Mean Life >> \",np.mean(max_cycles))\n",
    "print(\"Min Life >> \",min(max_cycles))"
   ]
  },
  {
   "cell_type": "markdown",
   "metadata": {},
   "source": [
    "From the above vizulization its clear that \n",
    "- Section-4 (Oprational Setting-3)\n",
    "- Section-5 (Sensor-1)\n",
    "- Section-9  (Sensor-5)\n",
    "- Section-14 (Sensor-10)\n",
    "- Section-20 (Sensor-16)\n",
    "- Section-22 (Sensor-18)\n",
    "- Section-23 (Sensor-19)\n",
    "\n",
    "Does not play a vital role in variation of data and there std is also almost 0 so, these sensor data is useless for us hence, we can drop this coloumn data"
   ]
  },
  {
   "cell_type": "code",
   "execution_count": 7,
   "metadata": {},
   "outputs": [],
   "source": [
    "#delete columns with constant values that do not carry information about the state of the unit\n",
    "#data = pd.concat([RUL_data,OS_data,Sensor_data], axis=1)\n",
    "df.drop(columns=[\"Section-0\",\n",
    "                \"Section-4\", # Operatinal Setting\n",
    "                \"Section-5\", # Sensor data\n",
    "                \"Section-9\", # Sensor data\n",
    "                \"Section-10\", # Sensor data\n",
    "                \"Section-14\",# Sensor data\n",
    "                \"Section-20\",# Sensor data\n",
    "                \"Section-22\",# Sensor data\n",
    "                \"Section-23\"] , inplace=True)"
   ]
  },
  {
   "cell_type": "code",
   "execution_count": 8,
   "metadata": {},
   "outputs": [
    {
     "data": {
      "text/html": [
       "<div>\n",
       "<style scoped>\n",
       "    .dataframe tbody tr th:only-of-type {\n",
       "        vertical-align: middle;\n",
       "    }\n",
       "\n",
       "    .dataframe tbody tr th {\n",
       "        vertical-align: top;\n",
       "    }\n",
       "\n",
       "    .dataframe thead th {\n",
       "        text-align: right;\n",
       "    }\n",
       "</style>\n",
       "<table border=\"1\" class=\"dataframe\">\n",
       "  <thead>\n",
       "    <tr style=\"text-align: right;\">\n",
       "      <th></th>\n",
       "      <th>Section-1</th>\n",
       "      <th>Section-2</th>\n",
       "      <th>Section-3</th>\n",
       "      <th>Section-6</th>\n",
       "      <th>Section-7</th>\n",
       "      <th>Section-8</th>\n",
       "      <th>Section-11</th>\n",
       "      <th>Section-12</th>\n",
       "      <th>Section-13</th>\n",
       "      <th>Section-15</th>\n",
       "      <th>Section-16</th>\n",
       "      <th>Section-17</th>\n",
       "      <th>Section-18</th>\n",
       "      <th>Section-19</th>\n",
       "      <th>Section-21</th>\n",
       "      <th>Section-24</th>\n",
       "      <th>Section-25</th>\n",
       "    </tr>\n",
       "  </thead>\n",
       "  <tbody>\n",
       "    <tr>\n",
       "      <th>0</th>\n",
       "      <td>1</td>\n",
       "      <td>-0.0007</td>\n",
       "      <td>-0.0004</td>\n",
       "      <td>641.82</td>\n",
       "      <td>1589.70</td>\n",
       "      <td>1400.60</td>\n",
       "      <td>554.36</td>\n",
       "      <td>2388.06</td>\n",
       "      <td>9046.19</td>\n",
       "      <td>47.47</td>\n",
       "      <td>521.66</td>\n",
       "      <td>2388.02</td>\n",
       "      <td>8138.62</td>\n",
       "      <td>8.4195</td>\n",
       "      <td>392</td>\n",
       "      <td>39.06</td>\n",
       "      <td>23.4190</td>\n",
       "    </tr>\n",
       "    <tr>\n",
       "      <th>1</th>\n",
       "      <td>2</td>\n",
       "      <td>0.0019</td>\n",
       "      <td>-0.0003</td>\n",
       "      <td>642.15</td>\n",
       "      <td>1591.82</td>\n",
       "      <td>1403.14</td>\n",
       "      <td>553.75</td>\n",
       "      <td>2388.04</td>\n",
       "      <td>9044.07</td>\n",
       "      <td>47.49</td>\n",
       "      <td>522.28</td>\n",
       "      <td>2388.07</td>\n",
       "      <td>8131.49</td>\n",
       "      <td>8.4318</td>\n",
       "      <td>392</td>\n",
       "      <td>39.00</td>\n",
       "      <td>23.4236</td>\n",
       "    </tr>\n",
       "    <tr>\n",
       "      <th>2</th>\n",
       "      <td>3</td>\n",
       "      <td>-0.0043</td>\n",
       "      <td>0.0003</td>\n",
       "      <td>642.35</td>\n",
       "      <td>1587.99</td>\n",
       "      <td>1404.20</td>\n",
       "      <td>554.26</td>\n",
       "      <td>2388.08</td>\n",
       "      <td>9052.94</td>\n",
       "      <td>47.27</td>\n",
       "      <td>522.42</td>\n",
       "      <td>2388.03</td>\n",
       "      <td>8133.23</td>\n",
       "      <td>8.4178</td>\n",
       "      <td>390</td>\n",
       "      <td>38.95</td>\n",
       "      <td>23.3442</td>\n",
       "    </tr>\n",
       "    <tr>\n",
       "      <th>3</th>\n",
       "      <td>4</td>\n",
       "      <td>0.0007</td>\n",
       "      <td>0.0000</td>\n",
       "      <td>642.35</td>\n",
       "      <td>1582.79</td>\n",
       "      <td>1401.87</td>\n",
       "      <td>554.45</td>\n",
       "      <td>2388.11</td>\n",
       "      <td>9049.48</td>\n",
       "      <td>47.13</td>\n",
       "      <td>522.86</td>\n",
       "      <td>2388.08</td>\n",
       "      <td>8133.83</td>\n",
       "      <td>8.3682</td>\n",
       "      <td>392</td>\n",
       "      <td>38.88</td>\n",
       "      <td>23.3739</td>\n",
       "    </tr>\n",
       "    <tr>\n",
       "      <th>4</th>\n",
       "      <td>5</td>\n",
       "      <td>-0.0019</td>\n",
       "      <td>-0.0002</td>\n",
       "      <td>642.37</td>\n",
       "      <td>1582.85</td>\n",
       "      <td>1406.22</td>\n",
       "      <td>554.00</td>\n",
       "      <td>2388.06</td>\n",
       "      <td>9055.15</td>\n",
       "      <td>47.28</td>\n",
       "      <td>522.19</td>\n",
       "      <td>2388.04</td>\n",
       "      <td>8133.80</td>\n",
       "      <td>8.4294</td>\n",
       "      <td>393</td>\n",
       "      <td>38.90</td>\n",
       "      <td>23.4044</td>\n",
       "    </tr>\n",
       "  </tbody>\n",
       "</table>\n",
       "</div>"
      ],
      "text/plain": [
       "   Section-1  Section-2  Section-3  Section-6  Section-7  Section-8  \\\n",
       "0          1    -0.0007    -0.0004     641.82    1589.70    1400.60   \n",
       "1          2     0.0019    -0.0003     642.15    1591.82    1403.14   \n",
       "2          3    -0.0043     0.0003     642.35    1587.99    1404.20   \n",
       "3          4     0.0007     0.0000     642.35    1582.79    1401.87   \n",
       "4          5    -0.0019    -0.0002     642.37    1582.85    1406.22   \n",
       "\n",
       "   Section-11  Section-12  Section-13  Section-15  Section-16  Section-17  \\\n",
       "0      554.36     2388.06     9046.19       47.47      521.66     2388.02   \n",
       "1      553.75     2388.04     9044.07       47.49      522.28     2388.07   \n",
       "2      554.26     2388.08     9052.94       47.27      522.42     2388.03   \n",
       "3      554.45     2388.11     9049.48       47.13      522.86     2388.08   \n",
       "4      554.00     2388.06     9055.15       47.28      522.19     2388.04   \n",
       "\n",
       "   Section-18  Section-19  Section-21  Section-24  Section-25  \n",
       "0     8138.62      8.4195         392       39.06     23.4190  \n",
       "1     8131.49      8.4318         392       39.00     23.4236  \n",
       "2     8133.23      8.4178         390       38.95     23.3442  \n",
       "3     8133.83      8.3682         392       38.88     23.3739  \n",
       "4     8133.80      8.4294         393       38.90     23.4044  "
      ]
     },
     "execution_count": 8,
     "metadata": {},
     "output_type": "execute_result"
    }
   ],
   "source": [
    "df.head()"
   ]
  },
  {
   "cell_type": "markdown",
   "metadata": {},
   "source": [
    "# <a id='noise_removal'>2. Noise removal and Normalization</a>\n",
    "<a href='#index'>Go back to Index</a>"
   ]
  },
  {
   "cell_type": "code",
   "execution_count": 9,
   "metadata": {},
   "outputs": [
    {
     "name": "stdout",
     "output_type": "stream",
     "text": [
      "<class 'pandas.core.frame.DataFrame'>\n"
     ]
    }
   ],
   "source": [
    "print(type(df))\n",
    "gen = MinMaxScaler(feature_range=(0, 1))\n",
    "df = gen.fit_transform(df)\n",
    "df = pd.DataFrame(df)\n",
    "#df = df.rolling(20).mean()\n",
    "pt = PowerTransformer()\n",
    "df = pt.fit_transform(df)"
   ]
  },
  {
   "cell_type": "code",
   "execution_count": 10,
   "metadata": {},
   "outputs": [],
   "source": [
    "df=np.nan_to_num(df)"
   ]
  },
  {
   "cell_type": "code",
   "execution_count": 11,
   "metadata": {},
   "outputs": [
    {
     "data": {
      "text/plain": [
       "array([[-1.84688137, -0.31975365, -1.3916867 , ..., -0.76399955,\n",
       "         1.42665355,  1.24248381],\n",
       "       [-1.82422371,  0.87202066, -1.03174892, ..., -0.76399955,\n",
       "         1.03734696,  1.29226848],\n",
       "       [-1.80166973, -1.9503069 ,  1.01385485, ..., -2.35059786,\n",
       "         0.72414823,  0.465476  ],\n",
       "       ...,\n",
       "       [ 1.25582441,  0.18308976,  0.01311911, ...,  2.66650739,\n",
       "        -1.90974435, -2.75272539],\n",
       "       [ 1.26682846, -0.50209065,  1.01385485, ...,  1.14636389,\n",
       "        -2.49938469, -1.91568423],\n",
       "       [ 1.27779988, -1.45465135, -1.75831429, ...,  1.68933126,\n",
       "        -2.19492018, -1.99819889]])"
      ]
     },
     "execution_count": 11,
     "metadata": {},
     "output_type": "execute_result"
    }
   ],
   "source": [
    "df"
   ]
  },
  {
   "cell_type": "code",
   "execution_count": 12,
   "metadata": {},
   "outputs": [],
   "source": [
    "# grouping w.r.t MID (Machine ID)\n",
    "# col_names = df.columns\n",
    "# def grouping(datafile, mid_series):\n",
    "#     data = [x for x in datafile.groupby(mid_series)]\n",
    "#     return data "
   ]
  },
  {
   "cell_type": "markdown",
   "metadata": {},
   "source": [
    "# <a id='training_and_validation'>3. Training and Validation using LSTM</a>\n",
    "<a href='#index'>Go back to Index</a>"
   ]
  },
  {
   "cell_type": "code",
   "execution_count": 13,
   "metadata": {},
   "outputs": [
    {
     "data": {
      "text/html": [
       "<div>\n",
       "<style scoped>\n",
       "    .dataframe tbody tr th:only-of-type {\n",
       "        vertical-align: middle;\n",
       "    }\n",
       "\n",
       "    .dataframe tbody tr th {\n",
       "        vertical-align: top;\n",
       "    }\n",
       "\n",
       "    .dataframe thead th {\n",
       "        text-align: right;\n",
       "    }\n",
       "</style>\n",
       "<table border=\"1\" class=\"dataframe\">\n",
       "  <thead>\n",
       "    <tr style=\"text-align: right;\">\n",
       "      <th></th>\n",
       "      <th>rul</th>\n",
       "    </tr>\n",
       "  </thead>\n",
       "  <tbody>\n",
       "    <tr>\n",
       "      <th>0</th>\n",
       "      <td>192</td>\n",
       "    </tr>\n",
       "    <tr>\n",
       "      <th>1</th>\n",
       "      <td>191</td>\n",
       "    </tr>\n",
       "    <tr>\n",
       "      <th>2</th>\n",
       "      <td>190</td>\n",
       "    </tr>\n",
       "    <tr>\n",
       "      <th>3</th>\n",
       "      <td>189</td>\n",
       "    </tr>\n",
       "    <tr>\n",
       "      <th>4</th>\n",
       "      <td>188</td>\n",
       "    </tr>\n",
       "  </tbody>\n",
       "</table>\n",
       "</div>"
      ],
      "text/plain": [
       "   rul\n",
       "0  192\n",
       "1  191\n",
       "2  190\n",
       "3  189\n",
       "4  188"
      ]
     },
     "execution_count": 13,
     "metadata": {},
     "output_type": "execute_result"
    }
   ],
   "source": [
    "def RUL_df():\n",
    "    rul_lst = [j  for i in MachineID_series.unique() for j in np.array(grp.get_group(i)[::-1][\"Section-1\"])]\n",
    "    rul_col = pd.DataFrame({\"rul\":rul_lst})\n",
    "    return rul_col\n",
    "\n",
    "RUL_df().head()"
   ]
  },
  {
   "cell_type": "code",
   "execution_count": 14,
   "metadata": {},
   "outputs": [
    {
     "name": "stdout",
     "output_type": "stream",
     "text": [
      "(20631, 17) (20631, 1)\n"
     ]
    }
   ],
   "source": [
    "X_train = np.array(df)\n",
    "\n",
    "y_train = np.array(RUL_df()).reshape(-1,1)\n",
    "\n",
    "#X_train, X_test, y_train, y_test = train_test_split(X, y, test_size = 0.20) \n",
    "\n",
    "\n",
    "print(X_train.shape,y_train.shape)"
   ]
  },
  {
   "cell_type": "code",
   "execution_count": 15,
   "metadata": {},
   "outputs": [
    {
     "data": {
      "text/plain": [
       "array([[192],\n",
       "       [191],\n",
       "       [190],\n",
       "       ...,\n",
       "       [  3],\n",
       "       [  2],\n",
       "       [  1]], dtype=int64)"
      ]
     },
     "execution_count": 15,
     "metadata": {},
     "output_type": "execute_result"
    }
   ],
   "source": [
    "y_train"
   ]
  },
  {
   "cell_type": "code",
   "execution_count": 16,
   "metadata": {},
   "outputs": [
    {
     "name": "stdout",
     "output_type": "stream",
     "text": [
      "[192 287 179 189 269 188 259 150 201 222 240 170 163 180 207 209 276 195\n",
      " 158 234 195 202 168 147 230 199 156 165 163 194 234 191 200 195 181 158\n",
      " 170 194 128 188 216 196 207 192 158 256 214 231 215 198 213 213 195 257\n",
      " 193 275 137 147 231 172 185 180 174 283 153 202 313 199 362 137 208 213\n",
      " 213 166 229 210 154 231 199 185 240 214 293 267 188 278 178 213 217 154\n",
      " 135 341 155 258 283 336 202 156 185 200]\n",
      "20631\n",
      "20631\n"
     ]
    }
   ],
   "source": [
    "print(max_cycles)\n",
    "print(sum(max_cycles))\n",
    "count = 0\n",
    "for cycle_len in max_cycles:\n",
    "    for i in range(21):\n",
    "        y_train[count+i] = 0\n",
    "    count = count + cycle_len\n",
    "print(count)"
   ]
  },
  {
   "cell_type": "code",
   "execution_count": 17,
   "metadata": {},
   "outputs": [
    {
     "name": "stdout",
     "output_type": "stream",
     "text": [
      "[[0]\n",
      " [0]\n",
      " [0]\n",
      " ...\n",
      " [3]\n",
      " [2]\n",
      " [1]]\n"
     ]
    }
   ],
   "source": [
    "print(y_train)"
   ]
  },
  {
   "cell_type": "code",
   "execution_count": 18,
   "metadata": {},
   "outputs": [],
   "source": [
    "def create_dataset(X, look_back=20):\n",
    "    data = []\n",
    "    for i in range(len(X)-look_back-1):\n",
    "        data.append(X[i:(i+look_back)])\n",
    "    return np.array(data)\n",
    "\n",
    "\n",
    "X_train = create_dataset(X_train)\n",
    "y_train = y_train[21:]"
   ]
  },
  {
   "cell_type": "code",
   "execution_count": 19,
   "metadata": {},
   "outputs": [
    {
     "name": "stdout",
     "output_type": "stream",
     "text": [
      "(20610, 20, 17) (20610, 1)\n"
     ]
    }
   ],
   "source": [
    "print(X_train.shape,y_train.shape)"
   ]
  },
  {
   "cell_type": "code",
   "execution_count": 20,
   "metadata": {},
   "outputs": [
    {
     "name": "stdout",
     "output_type": "stream",
     "text": [
      "[[171]\n",
      " [170]\n",
      " [169]\n",
      " ...\n",
      " [  3]\n",
      " [  2]\n",
      " [  1]]\n"
     ]
    }
   ],
   "source": [
    "print(y_train)"
   ]
  },
  {
   "cell_type": "code",
   "execution_count": 21,
   "metadata": {},
   "outputs": [],
   "source": [
    "def build_model(layers):\n",
    "        #d = 0.2\n",
    "        model = Sequential()\n",
    "        model.add(LSTM(128, input_shape=(layers[1], layers[0]), return_sequences=True))\n",
    "        #model.add(Dropout(d))\n",
    "        model.add(LSTM(64, input_shape=(layers[1], layers[0]), return_sequences=False))\n",
    "        #model.add(Dropout(d))\n",
    "        model.add(Dense(16,kernel_initializer='uniform',activation='relu'))        \n",
    "        model.add(Dense(1,kernel_initializer='uniform',activation='relu'))\n",
    "        model.compile(loss='mean_squared_error',optimizer='adam')\n",
    "        return model"
   ]
  },
  {
   "cell_type": "code",
   "execution_count": 22,
   "metadata": {},
   "outputs": [
    {
     "name": "stdout",
     "output_type": "stream",
     "text": [
      "Model: \"sequential\"\n",
      "_________________________________________________________________\n",
      "Layer (type)                 Output Shape              Param #   \n",
      "=================================================================\n",
      "lstm (LSTM)                  (None, 20, 128)           74752     \n",
      "_________________________________________________________________\n",
      "lstm_1 (LSTM)                (None, 64)                49408     \n",
      "_________________________________________________________________\n",
      "dense (Dense)                (None, 16)                1040      \n",
      "_________________________________________________________________\n",
      "dense_1 (Dense)              (None, 1)                 17        \n",
      "=================================================================\n",
      "Total params: 125,217\n",
      "Trainable params: 125,217\n",
      "Non-trainable params: 0\n",
      "_________________________________________________________________\n",
      "None\n"
     ]
    }
   ],
   "source": [
    "model = build_model([17,20])\n",
    "print(model.summary())"
   ]
  },
  {
   "cell_type": "code",
   "execution_count": 23,
   "metadata": {
    "scrolled": true
   },
   "outputs": [
    {
     "name": "stdout",
     "output_type": "stream",
     "text": [
      "Epoch 1/75\n",
      "35/35 [==============================] - 14s 393ms/step - loss: 11910.3164 - val_loss: 14817.2275\n",
      "Epoch 2/75\n",
      "35/35 [==============================] - 13s 381ms/step - loss: 11420.8916 - val_loss: 13980.8340\n",
      "Epoch 3/75\n",
      "35/35 [==============================] - 14s 404ms/step - loss: 10429.8779 - val_loss: 12619.2314\n",
      "Epoch 4/75\n",
      "35/35 [==============================] - 14s 394ms/step - loss: 9049.8584 - val_loss: 10932.0000\n",
      "Epoch 5/75\n",
      "35/35 [==============================] - 13s 385ms/step - loss: 7539.7832 - val_loss: 9240.2617\n",
      "Epoch 6/75\n",
      "35/35 [==============================] - 14s 387ms/step - loss: 6182.1201 - val_loss: 7826.4707\n",
      "Epoch 7/75\n",
      "35/35 [==============================] - 14s 396ms/step - loss: 5196.2007 - val_loss: 6859.4458\n",
      "Epoch 8/75\n",
      "35/35 [==============================] - 12s 350ms/step - loss: 4641.6357 - val_loss: 6327.7896\n",
      "Epoch 9/75\n",
      "35/35 [==============================] - 12s 344ms/step - loss: 3824.5132 - val_loss: 4603.2979\n",
      "Epoch 10/75\n",
      "35/35 [==============================] - 12s 347ms/step - loss: 2427.2188 - val_loss: 3578.3623\n",
      "Epoch 11/75\n",
      "35/35 [==============================] - 12s 345ms/step - loss: 1779.3516 - val_loss: 2868.7019\n",
      "Epoch 12/75\n",
      "35/35 [==============================] - 12s 345ms/step - loss: 1381.2778 - val_loss: 2439.7188\n",
      "Epoch 13/75\n",
      "35/35 [==============================] - 12s 347ms/step - loss: 1136.3750 - val_loss: 2180.7085\n",
      "Epoch 14/75\n",
      "35/35 [==============================] - 12s 355ms/step - loss: 965.2902 - val_loss: 2014.0045\n",
      "Epoch 15/75\n",
      "35/35 [==============================] - 12s 351ms/step - loss: 845.6010 - val_loss: 2058.5381\n",
      "Epoch 16/75\n",
      "35/35 [==============================] - 12s 349ms/step - loss: 769.9328 - val_loss: 2166.0203\n",
      "Epoch 17/75\n",
      "35/35 [==============================] - 12s 351ms/step - loss: 714.5649 - val_loss: 1874.8591\n",
      "Epoch 18/75\n",
      "35/35 [==============================] - 12s 350ms/step - loss: 650.1425 - val_loss: 2210.0808\n",
      "Epoch 19/75\n",
      "35/35 [==============================] - 12s 351ms/step - loss: 599.6448 - val_loss: 2301.6431\n",
      "Epoch 20/75\n",
      "35/35 [==============================] - 12s 353ms/step - loss: 550.9728 - val_loss: 2346.5068\n",
      "Epoch 21/75\n",
      "35/35 [==============================] - 12s 351ms/step - loss: 506.0330 - val_loss: 2201.9238\n",
      "Epoch 22/75\n",
      "35/35 [==============================] - 12s 352ms/step - loss: 459.6111 - val_loss: 2221.0173\n",
      "Epoch 23/75\n",
      "35/35 [==============================] - 12s 354ms/step - loss: 413.3383 - val_loss: 2458.5605\n",
      "Epoch 24/75\n",
      "35/35 [==============================] - 12s 354ms/step - loss: 382.8491 - val_loss: 2481.0481\n",
      "Epoch 25/75\n",
      "35/35 [==============================] - 12s 349ms/step - loss: 346.0735 - val_loss: 2249.9197\n",
      "Epoch 26/75\n",
      "35/35 [==============================] - 12s 353ms/step - loss: 315.5638 - val_loss: 2404.5642\n",
      "Epoch 27/75\n",
      "35/35 [==============================] - 12s 352ms/step - loss: 283.0821 - val_loss: 2663.1243\n",
      "Epoch 28/75\n",
      "35/35 [==============================] - 12s 349ms/step - loss: 264.0901 - val_loss: 2561.8062\n",
      "Epoch 29/75\n",
      "35/35 [==============================] - 12s 350ms/step - loss: 226.0364 - val_loss: 2562.6453\n",
      "Epoch 30/75\n",
      "35/35 [==============================] - 14s 397ms/step - loss: 207.1303 - val_loss: 2603.3120\n",
      "Epoch 31/75\n",
      "35/35 [==============================] - 12s 354ms/step - loss: 189.0724 - val_loss: 2701.1257\n",
      "Epoch 32/75\n",
      "35/35 [==============================] - 12s 353ms/step - loss: 178.4159 - val_loss: 2528.4207\n",
      "Epoch 33/75\n",
      "35/35 [==============================] - 13s 359ms/step - loss: 171.4185 - val_loss: 2567.5410\n",
      "Epoch 34/75\n",
      "35/35 [==============================] - 12s 353ms/step - loss: 150.5004 - val_loss: 2539.0564\n",
      "Epoch 35/75\n",
      "35/35 [==============================] - 12s 352ms/step - loss: 133.0792 - val_loss: 2619.0439\n",
      "Epoch 36/75\n",
      "35/35 [==============================] - 12s 350ms/step - loss: 123.2205 - val_loss: 2577.3796\n",
      "Epoch 37/75\n",
      "35/35 [==============================] - 12s 353ms/step - loss: 107.3994 - val_loss: 2612.3489\n",
      "Epoch 38/75\n",
      "35/35 [==============================] - 12s 351ms/step - loss: 101.2027 - val_loss: 2717.6587\n",
      "Epoch 39/75\n",
      "35/35 [==============================] - 13s 361ms/step - loss: 95.2547 - val_loss: 2778.5645\n",
      "Epoch 40/75\n",
      "35/35 [==============================] - 14s 390ms/step - loss: 82.9480 - val_loss: 2758.9419\n",
      "Epoch 41/75\n",
      "35/35 [==============================] - 13s 360ms/step - loss: 76.2054 - val_loss: 2622.8503\n",
      "Epoch 42/75\n",
      "35/35 [==============================] - 13s 359ms/step - loss: 70.2766 - val_loss: 2622.6387\n",
      "Epoch 43/75\n",
      "35/35 [==============================] - 13s 373ms/step - loss: 63.7392 - val_loss: 2728.8179\n",
      "Epoch 44/75\n",
      "35/35 [==============================] - 12s 355ms/step - loss: 57.0623 - val_loss: 2585.3850\n",
      "Epoch 45/75\n",
      "35/35 [==============================] - 12s 352ms/step - loss: 54.1045 - val_loss: 2679.1511\n",
      "Epoch 46/75\n",
      "35/35 [==============================] - 13s 377ms/step - loss: 51.2956 - val_loss: 2724.9294\n",
      "Epoch 47/75\n",
      "35/35 [==============================] - 15s 419ms/step - loss: 49.9184 - val_loss: 2641.0947\n",
      "Epoch 48/75\n",
      "35/35 [==============================] - 14s 387ms/step - loss: 46.0419 - val_loss: 2678.8157\n",
      "Epoch 49/75\n",
      "35/35 [==============================] - 14s 396ms/step - loss: 41.6894 - val_loss: 2678.0713\n",
      "Epoch 50/75\n",
      "35/35 [==============================] - 12s 353ms/step - loss: 38.8106 - val_loss: 2647.2688\n",
      "Epoch 51/75\n",
      "35/35 [==============================] - 12s 350ms/step - loss: 38.5458 - val_loss: 2806.2192\n",
      "Epoch 52/75\n",
      "35/35 [==============================] - 12s 349ms/step - loss: 36.6801 - val_loss: 2699.2517\n",
      "Epoch 53/75\n",
      "35/35 [==============================] - 12s 357ms/step - loss: 33.5934 - val_loss: 2680.4036\n",
      "Epoch 54/75\n",
      "35/35 [==============================] - 14s 414ms/step - loss: 31.6990 - val_loss: 2640.7981\n",
      "Epoch 55/75\n",
      "35/35 [==============================] - 13s 382ms/step - loss: 28.8457 - val_loss: 2655.3357\n",
      "Epoch 56/75\n",
      "35/35 [==============================] - 13s 377ms/step - loss: 27.3411 - val_loss: 2701.2544\n",
      "Epoch 57/75\n",
      "35/35 [==============================] - 12s 353ms/step - loss: 26.7356 - val_loss: 2702.0022\n",
      "Epoch 58/75\n",
      "35/35 [==============================] - 12s 355ms/step - loss: 24.5325 - val_loss: 2747.2004\n",
      "Epoch 59/75\n",
      "35/35 [==============================] - 12s 348ms/step - loss: 23.7238 - val_loss: 2662.6951\n",
      "Epoch 60/75\n",
      "35/35 [==============================] - 13s 359ms/step - loss: 22.2004 - val_loss: 2712.7812\n",
      "Epoch 61/75\n",
      "35/35 [==============================] - 14s 395ms/step - loss: 20.5948 - val_loss: 2658.3523\n",
      "Epoch 62/75\n",
      "35/35 [==============================] - 12s 356ms/step - loss: 20.0541 - val_loss: 2725.2480\n",
      "Epoch 63/75\n",
      "35/35 [==============================] - 14s 409ms/step - loss: 19.5155 - val_loss: 2730.2786\n",
      "Epoch 64/75\n",
      "35/35 [==============================] - 13s 376ms/step - loss: 18.3288 - val_loss: 2723.7632\n",
      "Epoch 65/75\n",
      "35/35 [==============================] - 13s 369ms/step - loss: 17.3986 - val_loss: 2716.6624\n",
      "Epoch 66/75\n",
      "35/35 [==============================] - 12s 355ms/step - loss: 18.2998 - val_loss: 2684.9114\n",
      "Epoch 67/75\n",
      "35/35 [==============================] - 12s 356ms/step - loss: 17.5459 - val_loss: 2628.5278\n",
      "Epoch 68/75\n",
      "35/35 [==============================] - 13s 363ms/step - loss: 16.9497 - val_loss: 2777.4751\n",
      "Epoch 69/75\n",
      "35/35 [==============================] - 14s 386ms/step - loss: 15.7232 - val_loss: 2724.5933\n",
      "Epoch 70/75\n",
      "35/35 [==============================] - 13s 362ms/step - loss: 15.1306 - val_loss: 2679.8594\n",
      "Epoch 71/75\n",
      "35/35 [==============================] - 14s 393ms/step - loss: 13.8845 - val_loss: 2686.5486\n",
      "Epoch 72/75\n",
      "35/35 [==============================] - 13s 359ms/step - loss: 13.4296 - val_loss: 2721.3118\n",
      "Epoch 73/75\n",
      "35/35 [==============================] - 13s 373ms/step - loss: 12.4829 - val_loss: 2726.3445\n",
      "Epoch 74/75\n",
      "35/35 [==============================] - 13s 383ms/step - loss: 12.5791 - val_loss: 2697.2795\n",
      "Epoch 75/75\n",
      "35/35 [==============================] - 13s 379ms/step - loss: 13.0888 - val_loss: 2681.3357\n"
     ]
    }
   ],
   "source": [
    "history = model.fit(\n",
    "    X_train,\n",
    "    y_train,\n",
    "    batch_size=512,\n",
    "    epochs=75,\n",
    "    validation_split=0.15,\n",
    "    verbose=1)"
   ]
  },
  {
   "cell_type": "code",
   "execution_count": 24,
   "metadata": {},
   "outputs": [],
   "source": [
    "model.save('LSTM_with_lookback_20.h5')"
   ]
  },
  {
   "cell_type": "code",
   "execution_count": 25,
   "metadata": {},
   "outputs": [
    {
     "name": "stdout",
     "output_type": "stream",
     "text": [
      "dict_keys(['loss', 'val_loss'])\n"
     ]
    }
   ],
   "source": [
    "print(history.history.keys())"
   ]
  },
  {
   "cell_type": "code",
   "execution_count": 26,
   "metadata": {},
   "outputs": [
    {
     "data": {
      "image/png": "[encoded data removed]",
      "text/plain": [
       "<Figure size 432x288 with 1 Axes>"
      ]
     },
     "metadata": {
      "needs_background": "light"
     },
     "output_type": "display_data"
    }
   ],
   "source": [
    "# Loss Graph\n",
    "plt.plot(history.epoch, history.history['loss'] , label = \"loss\")\n",
    "plt.plot(history.epoch, history.history['val_loss'] , label = \"val_loss\")\n",
    "plt.legend()\n",
    "plt.show()"
   ]
  },
  {
   "cell_type": "code",
   "execution_count": 27,
   "metadata": {},
   "outputs": [
    {
     "name": "stdout",
     "output_type": "stream",
     "text": [
      "mean_squared_error >>  412.80822114387706\n",
      "root_mean_squared_error >>  20.31768247472819\n",
      "mean_absolute_error >> 6.679295523591206\n"
     ]
    }
   ],
   "source": [
    "y_train_pred = model.predict(X_train)\n",
    "print(\"mean_squared_error >> \", mean_squared_error(y_train,y_train_pred))\n",
    "print(\"root_mean_squared_error >> \", math.sqrt(mean_squared_error(y_train,y_train_pred)))\n",
    "print(\"mean_absolute_error >>\",mean_absolute_error(y_train,y_train_pred))"
   ]
  },
  {
   "cell_type": "markdown",
   "metadata": {},
   "source": [
    "# <a id='testing'>4 Testing</a>\n",
    "<a href='#index'>Go back to Index</a>"
   ]
  },
  {
   "cell_type": "code",
   "execution_count": 28,
   "metadata": {},
   "outputs": [
    {
     "data": {
      "text/html": [
       "<div>\n",
       "<style scoped>\n",
       "    .dataframe tbody tr th:only-of-type {\n",
       "        vertical-align: middle;\n",
       "    }\n",
       "\n",
       "    .dataframe tbody tr th {\n",
       "        vertical-align: top;\n",
       "    }\n",
       "\n",
       "    .dataframe thead th {\n",
       "        text-align: right;\n",
       "    }\n",
       "</style>\n",
       "<table border=\"1\" class=\"dataframe\">\n",
       "  <thead>\n",
       "    <tr style=\"text-align: right;\">\n",
       "      <th></th>\n",
       "      <th>Section-0</th>\n",
       "      <th>Section-1</th>\n",
       "      <th>Section-2</th>\n",
       "      <th>Section-3</th>\n",
       "      <th>Section-4</th>\n",
       "      <th>Section-5</th>\n",
       "      <th>Section-6</th>\n",
       "      <th>Section-7</th>\n",
       "      <th>Section-8</th>\n",
       "      <th>Section-9</th>\n",
       "      <th>...</th>\n",
       "      <th>Section-16</th>\n",
       "      <th>Section-17</th>\n",
       "      <th>Section-18</th>\n",
       "      <th>Section-19</th>\n",
       "      <th>Section-20</th>\n",
       "      <th>Section-21</th>\n",
       "      <th>Section-22</th>\n",
       "      <th>Section-23</th>\n",
       "      <th>Section-24</th>\n",
       "      <th>Section-25</th>\n",
       "    </tr>\n",
       "  </thead>\n",
       "  <tbody>\n",
       "    <tr>\n",
       "      <th>0</th>\n",
       "      <td>1</td>\n",
       "      <td>1</td>\n",
       "      <td>0.0023</td>\n",
       "      <td>0.0003</td>\n",
       "      <td>100.0</td>\n",
       "      <td>518.67</td>\n",
       "      <td>643.02</td>\n",
       "      <td>1585.29</td>\n",
       "      <td>1398.21</td>\n",
       "      <td>14.62</td>\n",
       "      <td>...</td>\n",
       "      <td>521.72</td>\n",
       "      <td>2388.03</td>\n",
       "      <td>8125.55</td>\n",
       "      <td>8.4052</td>\n",
       "      <td>0.03</td>\n",
       "      <td>392</td>\n",
       "      <td>2388</td>\n",
       "      <td>100.0</td>\n",
       "      <td>38.86</td>\n",
       "      <td>23.3735</td>\n",
       "    </tr>\n",
       "    <tr>\n",
       "      <th>1</th>\n",
       "      <td>1</td>\n",
       "      <td>2</td>\n",
       "      <td>-0.0027</td>\n",
       "      <td>-0.0003</td>\n",
       "      <td>100.0</td>\n",
       "      <td>518.67</td>\n",
       "      <td>641.71</td>\n",
       "      <td>1588.45</td>\n",
       "      <td>1395.42</td>\n",
       "      <td>14.62</td>\n",
       "      <td>...</td>\n",
       "      <td>522.16</td>\n",
       "      <td>2388.06</td>\n",
       "      <td>8139.62</td>\n",
       "      <td>8.3803</td>\n",
       "      <td>0.03</td>\n",
       "      <td>393</td>\n",
       "      <td>2388</td>\n",
       "      <td>100.0</td>\n",
       "      <td>39.02</td>\n",
       "      <td>23.3916</td>\n",
       "    </tr>\n",
       "    <tr>\n",
       "      <th>2</th>\n",
       "      <td>1</td>\n",
       "      <td>3</td>\n",
       "      <td>0.0003</td>\n",
       "      <td>0.0001</td>\n",
       "      <td>100.0</td>\n",
       "      <td>518.67</td>\n",
       "      <td>642.46</td>\n",
       "      <td>1586.94</td>\n",
       "      <td>1401.34</td>\n",
       "      <td>14.62</td>\n",
       "      <td>...</td>\n",
       "      <td>521.97</td>\n",
       "      <td>2388.03</td>\n",
       "      <td>8130.10</td>\n",
       "      <td>8.4441</td>\n",
       "      <td>0.03</td>\n",
       "      <td>393</td>\n",
       "      <td>2388</td>\n",
       "      <td>100.0</td>\n",
       "      <td>39.08</td>\n",
       "      <td>23.4166</td>\n",
       "    </tr>\n",
       "    <tr>\n",
       "      <th>3</th>\n",
       "      <td>1</td>\n",
       "      <td>4</td>\n",
       "      <td>0.0042</td>\n",
       "      <td>0.0000</td>\n",
       "      <td>100.0</td>\n",
       "      <td>518.67</td>\n",
       "      <td>642.44</td>\n",
       "      <td>1584.12</td>\n",
       "      <td>1406.42</td>\n",
       "      <td>14.62</td>\n",
       "      <td>...</td>\n",
       "      <td>521.38</td>\n",
       "      <td>2388.05</td>\n",
       "      <td>8132.90</td>\n",
       "      <td>8.3917</td>\n",
       "      <td>0.03</td>\n",
       "      <td>391</td>\n",
       "      <td>2388</td>\n",
       "      <td>100.0</td>\n",
       "      <td>39.00</td>\n",
       "      <td>23.3737</td>\n",
       "    </tr>\n",
       "    <tr>\n",
       "      <th>4</th>\n",
       "      <td>1</td>\n",
       "      <td>5</td>\n",
       "      <td>0.0014</td>\n",
       "      <td>0.0000</td>\n",
       "      <td>100.0</td>\n",
       "      <td>518.67</td>\n",
       "      <td>642.51</td>\n",
       "      <td>1587.19</td>\n",
       "      <td>1401.92</td>\n",
       "      <td>14.62</td>\n",
       "      <td>...</td>\n",
       "      <td>522.15</td>\n",
       "      <td>2388.03</td>\n",
       "      <td>8129.54</td>\n",
       "      <td>8.4031</td>\n",
       "      <td>0.03</td>\n",
       "      <td>390</td>\n",
       "      <td>2388</td>\n",
       "      <td>100.0</td>\n",
       "      <td>38.99</td>\n",
       "      <td>23.4130</td>\n",
       "    </tr>\n",
       "  </tbody>\n",
       "</table>\n",
       "<p>5 rows × 26 columns</p>\n",
       "</div>"
      ],
      "text/plain": [
       "   Section-0  Section-1  Section-2  Section-3  Section-4  Section-5  \\\n",
       "0          1          1     0.0023     0.0003      100.0     518.67   \n",
       "1          1          2    -0.0027    -0.0003      100.0     518.67   \n",
       "2          1          3     0.0003     0.0001      100.0     518.67   \n",
       "3          1          4     0.0042     0.0000      100.0     518.67   \n",
       "4          1          5     0.0014     0.0000      100.0     518.67   \n",
       "\n",
       "   Section-6  Section-7  Section-8  Section-9  ...  Section-16  Section-17  \\\n",
       "0     643.02    1585.29    1398.21      14.62  ...      521.72     2388.03   \n",
       "1     641.71    1588.45    1395.42      14.62  ...      522.16     2388.06   \n",
       "2     642.46    1586.94    1401.34      14.62  ...      521.97     2388.03   \n",
       "3     642.44    1584.12    1406.42      14.62  ...      521.38     2388.05   \n",
       "4     642.51    1587.19    1401.92      14.62  ...      522.15     2388.03   \n",
       "\n",
       "   Section-18  Section-19  Section-20  Section-21  Section-22  Section-23  \\\n",
       "0     8125.55      8.4052        0.03         392        2388       100.0   \n",
       "1     8139.62      8.3803        0.03         393        2388       100.0   \n",
       "2     8130.10      8.4441        0.03         393        2388       100.0   \n",
       "3     8132.90      8.3917        0.03         391        2388       100.0   \n",
       "4     8129.54      8.4031        0.03         390        2388       100.0   \n",
       "\n",
       "   Section-24  Section-25  \n",
       "0       38.86     23.3735  \n",
       "1       39.02     23.3916  \n",
       "2       39.08     23.4166  \n",
       "3       39.00     23.3737  \n",
       "4       38.99     23.4130  \n",
       "\n",
       "[5 rows x 26 columns]"
      ]
     },
     "execution_count": 28,
     "metadata": {},
     "output_type": "execute_result"
    }
   ],
   "source": [
    "df_test = pd.read_csv(test_file, sep=\" \",header=None)\n",
    "df_test.drop(columns=[26,27],inplace=True)\n",
    "df_test.columns = columns\n",
    "df_test.head()"
   ]
  },
  {
   "cell_type": "code",
   "execution_count": 29,
   "metadata": {},
   "outputs": [
    {
     "data": {
      "text/html": [
       "<div>\n",
       "<style scoped>\n",
       "    .dataframe tbody tr th:only-of-type {\n",
       "        vertical-align: middle;\n",
       "    }\n",
       "\n",
       "    .dataframe tbody tr th {\n",
       "        vertical-align: top;\n",
       "    }\n",
       "\n",
       "    .dataframe thead th {\n",
       "        text-align: right;\n",
       "    }\n",
       "</style>\n",
       "<table border=\"1\" class=\"dataframe\">\n",
       "  <thead>\n",
       "    <tr style=\"text-align: right;\">\n",
       "      <th></th>\n",
       "      <th>rul</th>\n",
       "    </tr>\n",
       "  </thead>\n",
       "  <tbody>\n",
       "    <tr>\n",
       "      <th>0</th>\n",
       "      <td>112</td>\n",
       "    </tr>\n",
       "    <tr>\n",
       "      <th>1</th>\n",
       "      <td>98</td>\n",
       "    </tr>\n",
       "    <tr>\n",
       "      <th>2</th>\n",
       "      <td>69</td>\n",
       "    </tr>\n",
       "    <tr>\n",
       "      <th>3</th>\n",
       "      <td>82</td>\n",
       "    </tr>\n",
       "    <tr>\n",
       "      <th>4</th>\n",
       "      <td>91</td>\n",
       "    </tr>\n",
       "  </tbody>\n",
       "</table>\n",
       "</div>"
      ],
      "text/plain": [
       "   rul\n",
       "0  112\n",
       "1   98\n",
       "2   69\n",
       "3   82\n",
       "4   91"
      ]
     },
     "execution_count": 29,
     "metadata": {},
     "output_type": "execute_result"
    }
   ],
   "source": [
    "df_rul = pd.read_csv(RUL_file, names=['rul'])\n",
    "df_rul.head()"
   ]
  },
  {
   "cell_type": "code",
   "execution_count": 30,
   "metadata": {},
   "outputs": [],
   "source": [
    "RUL_name = [\"Section-1\"]\n",
    "RUL_data = df_test[RUL_name]\n",
    "MachineID_series = df_test[\"Section-0\"]\n",
    "grp = RUL_data.groupby(MachineID_series)\n",
    "max_cycles = np.array([max(grp.get_group(i)[\"Section-1\"]) for i in MachineID_series.unique()])\n",
    "max_cycles[0] = max_cycles[0] - 21"
   ]
  },
  {
   "cell_type": "code",
   "execution_count": 31,
   "metadata": {},
   "outputs": [],
   "source": [
    "df_test.drop(df_test[[\"Section-0\",\n",
    "                \"Section-4\", # Operatinal Setting\n",
    "                \"Section-5\", # Sensor data\n",
    "                \"Section-9\", # Sensor data\n",
    "                \"Section-10\", # Sensor data\n",
    "                \"Section-14\",# Sensor data\n",
    "                \"Section-20\",# Sensor data\n",
    "                \"Section-22\",# Sensor data\n",
    "                \"Section-23\"]], axis=1 , inplace=True)\n",
    "#df_test = df_test.groupby([\"Section-0\"])\n",
    "#print(df_test)\n"
   ]
  },
  {
   "cell_type": "code",
   "execution_count": 32,
   "metadata": {},
   "outputs": [],
   "source": [
    "gen = MinMaxScaler(feature_range=(0, 1))\n",
    "df_test = gen.fit_transform(df_test)\n",
    "df_test = pd.DataFrame(df_test)\n",
    "#df_test = df_test.rolling(20).mean()\n",
    "pt = PowerTransformer()\n",
    "df_test = pt.fit_transform(df_test)\n",
    "df_test=np.nan_to_num(df_test)"
   ]
  },
  {
   "cell_type": "code",
   "execution_count": 33,
   "metadata": {},
   "outputs": [
    {
     "data": {
      "text/plain": [
       "array([[-1.7938502 ,  1.04936462,  1.00459956, ..., -0.43585161,\n",
       "        -0.26636316,  0.42059548],\n",
       "       [-1.75983242, -1.22056415, -1.03515135, ...,  0.37849296,\n",
       "         0.89958112,  0.64708667],\n",
       "       [-1.72609272,  0.14086219,  0.34489676, ...,  0.37849296,\n",
       "         1.36106152,  0.96601877],\n",
       "       ...,\n",
       "       [ 1.83603259, -0.26773967, -1.03515135, ...,  1.88097691,\n",
       "        -1.83688403, -1.50936271],\n",
       "       [ 1.84590292, -1.71931856,  0.34489676, ...,  1.88097691,\n",
       "        -1.59013861, -0.80455247],\n",
       "       [ 1.85572407,  0.59502963,  1.00459956, ...,  2.57907106,\n",
       "        -1.33736329, -1.7132478 ]])"
      ]
     },
     "execution_count": 33,
     "metadata": {},
     "output_type": "execute_result"
    }
   ],
   "source": [
    "df_test"
   ]
  },
  {
   "cell_type": "code",
   "execution_count": 34,
   "metadata": {},
   "outputs": [
    {
     "name": "stdout",
     "output_type": "stream",
     "text": [
      "(13096, 17) (100, 1)\n",
      "[ 10  49 126 106  98 105 160 166  55 192  83 217 195  46  76 113 165 133\n",
      " 135 184 148  39 130 186  48  76 140 158 171 143 196 145  50 203 198 126\n",
      " 121 125  37 133 123 156 172  54 152 146  73  78 303  74 144 189 164 121\n",
      " 113 136 160 176  94 147 159 232 155 168  71 147  71 187  54 152  68 131\n",
      " 112 137  88 205 162  72 101 133 213 162  73 172  34 110  56  68 177 146\n",
      " 234 150 244 133  89  97 134 121  97 198]\n"
     ]
    }
   ],
   "source": [
    "X_test = np.array(df_test)\n",
    "\n",
    "y_test = np.array(df_rul)\n",
    "\n",
    "\n",
    "\n",
    "# X_train = np.reshape(X_train, (X_train.shape[0], X_train.shape[1], 1))\n",
    "# X_test = np.reshape(X_test, (X_test.shape[0], X_test.shape[1], 1))\n",
    "print(X_test.shape,y_test.shape)\n",
    "print(max_cycles)"
   ]
  },
  {
   "cell_type": "code",
   "execution_count": 35,
   "metadata": {},
   "outputs": [],
   "source": [
    "def create_dataset(X, look_back=20):\n",
    "    data = []\n",
    "    for i in range(len(X)-look_back-1):\n",
    "        data.append(X[i:(i+look_back)])\n",
    "    return np.array(data)"
   ]
  },
  {
   "cell_type": "code",
   "execution_count": 36,
   "metadata": {},
   "outputs": [],
   "source": [
    "X_test = create_dataset(X_test)\n",
    "#y_test = y_test[6:]"
   ]
  },
  {
   "cell_type": "code",
   "execution_count": 37,
   "metadata": {},
   "outputs": [
    {
     "name": "stdout",
     "output_type": "stream",
     "text": [
      "(13075, 20, 17) (100, 1)\n"
     ]
    }
   ],
   "source": [
    "print(X_test.shape,y_test.shape)"
   ]
  },
  {
   "cell_type": "code",
   "execution_count": 38,
   "metadata": {},
   "outputs": [],
   "source": [
    "pred = model.predict(X_test)"
   ]
  },
  {
   "cell_type": "code",
   "execution_count": 39,
   "metadata": {},
   "outputs": [
    {
     "data": {
      "text/plain": [
       "(13075, 1)"
      ]
     },
     "execution_count": 39,
     "metadata": {},
     "output_type": "execute_result"
    }
   ],
   "source": [
    "pred.shape"
   ]
  },
  {
   "cell_type": "code",
   "execution_count": 40,
   "metadata": {},
   "outputs": [],
   "source": [
    "final_pred = []\n",
    "count = 0\n",
    "for i in range(100):\n",
    "    temp = 0\n",
    "    j = max_cycles[i] \n",
    "    while j>0:\n",
    "        temp = temp + pred[count]\n",
    "        j=j-1\n",
    "        count=count+1\n",
    "    final_pred.append(int(temp/max_cycles[i]))"
   ]
  },
  {
   "cell_type": "code",
   "execution_count": 41,
   "metadata": {},
   "outputs": [
    {
     "name": "stdout",
     "output_type": "stream",
     "text": [
      "[116, 154, 84, 81, 97, 102, 118, 87, 100, 117, 29, 106, 115, 28, 150, 154, 49, 50, 120, 60, 89, 112, 153, 71, 86, 108, 115, 79, 138, 84, 40, 56, 80, 80, 45, 38, 95, 51, 84, 53, 83, 76, 81, 122, 82, 55, 26, 105, 99, 89, 99, 123, 89, 115, 146, 23, 76, 80, 120, 96, 61, 113, 77, 73, 64, 54, 87, 88, 95, 92, 63, 78, 112, 88, 94, 92, 66, 105, 99, 82, 39, 46, 94, 90, 89, 102, 129, 66, 95, 83, 38, 29, 63, 73, 91, 80, 55, 76, 134, 109]\n"
     ]
    }
   ],
   "source": [
    "print(final_pred)"
   ]
  },
  {
   "cell_type": "code",
   "execution_count": 42,
   "metadata": {},
   "outputs": [
    {
     "data": {
      "text/plain": [
       "116"
      ]
     },
     "execution_count": 42,
     "metadata": {},
     "output_type": "execute_result"
    }
   ],
   "source": [
    "final_pred[0]"
   ]
  },
  {
   "cell_type": "markdown",
   "metadata": {},
   "source": [
    "## Using mean as prediction"
   ]
  },
  {
   "cell_type": "code",
   "execution_count": 43,
   "metadata": {},
   "outputs": [
    {
     "data": {
      "image/png": "[encoded data removed]",
      "text/plain": [
       "<Figure size 1296x720 with 1 Axes>"
      ]
     },
     "metadata": {
      "needs_background": "light"
     },
     "output_type": "display_data"
    }
   ],
   "source": [
    "fig = plt.figure(figsize=(18,10))\n",
    "plt.plot(final_pred,color='red', label='prediction')\n",
    "plt.plot(y_test,color='blue', label='y_test')\n",
    "plt.legend(loc='upper left')\n",
    "plt.grid()\n",
    "plt.show()"
   ]
  },
  {
   "cell_type": "code",
   "execution_count": 44,
   "metadata": {
    "scrolled": true
   },
   "outputs": [
    {
     "name": "stdout",
     "output_type": "stream",
     "text": [
      "mean_squared_error >>  1702.35\n",
      "root_mean_squared_error >>  41.259544350368195\n",
      "mean_absolute_error >> 32.99\n"
     ]
    }
   ],
   "source": [
    "print(\"mean_squared_error >> \", mean_squared_error(y_test,final_pred))\n",
    "print(\"root_mean_squared_error >> \", math.sqrt(mean_squared_error(y_test,final_pred)))\n",
    "print(\"mean_absolute_error >>\",mean_absolute_error(y_test,final_pred))"
   ]
  },
  {
   "cell_type": "code",
   "execution_count": null,
   "metadata": {},
   "outputs": [],
   "source": []
  },
  {
   "cell_type": "code",
   "execution_count": null,
   "metadata": {},
   "outputs": [],
   "source": []
  },
  {
   "cell_type": "markdown",
   "metadata": {},
   "source": [
    "## Using last index as prediction"
   ]
  },
  {
   "cell_type": "code",
   "execution_count": 53,
   "metadata": {},
   "outputs": [
    {
     "name": "stdout",
     "output_type": "stream",
     "text": [
      "[108, 117, 20, 43, 48, 55, 102, 43, 105, 89, 26, 91, 104, 13, 191, 207, 25, 12, 152, 0, 53, 153, 100, 10, 123, 55, 48, 79, 57, 61, 0, 29, 61, 0, 0, 0, 14, 19, 114, 0, 26, 0, 34, 134, 36, 15, 44, 59, 0, 67, 57, 17, 14, 140, 173, 0, 65, 30, 66, 82, 5, 38, 41, 6, 82, 0, 87, 0, 91, 46, 38, 31, 113, 98, 60, 0, 23, 107, 57, 40, 0, 0, 80, 40, 123, 49, 81, 33, 47, 11, 0, 0, 13, 26, 78, 74, 57, 24, 117, 10]\n"
     ]
    },
    {
     "data": {
      "image/png": "[encoded data removed]",
      "text/plain": [
       "<Figure size 1296x720 with 1 Axes>"
      ]
     },
     "metadata": {
      "needs_background": "light"
     },
     "output_type": "display_data"
    },
    {
     "name": "stdout",
     "output_type": "stream",
     "text": [
      "mean_squared_error >>  1629.12\n",
      "root_mean_squared_error >>  40.362358702137314\n",
      "mean_absolute_error >> 31.48\n"
     ]
    }
   ],
   "source": [
    "final_pred = []\n",
    "count = 0\n",
    "for i in range(100):\n",
    "    j = max_cycles[i] \n",
    "    temp = pred[count+j-1]\n",
    "    count=count+j\n",
    "    final_pred.append(int(temp))\n",
    "\n",
    "print(final_pred)\n",
    "\n",
    "\n",
    "fig = plt.figure(figsize=(18,10))\n",
    "plt.plot(final_pred,color='red', label='prediction')\n",
    "plt.plot(y_test,color='blue', label='y_test')\n",
    "plt.legend(loc='upper left')\n",
    "plt.grid()\n",
    "plt.show()\n",
    "\n",
    "print(\"mean_squared_error >> \", mean_squared_error(y_test,final_pred))\n",
    "print(\"root_mean_squared_error >> \", math.sqrt(mean_squared_error(y_test,final_pred)))\n",
    "print(\"mean_absolute_error >>\",mean_absolute_error(y_test,final_pred))"
   ]
  },
  {
   "cell_type": "code",
   "execution_count": null,
   "metadata": {},
   "outputs": [],
   "source": []
  }
 ],
 "metadata": {
  "kernelspec": {
   "display_name": "Python 3",
   "language": "python",
   "name": "python3"
  },
  "language_info": {
   "codemirror_mode": {
    "name": "ipython",
    "version": 3
   },
   "file_extension": ".py",
   "mimetype": "text/x-python",
   "name": "python",
   "nbconvert_exporter": "python",
   "pygments_lexer": "ipython3",
   "version": "3.7.9"
  }
 },
 "nbformat": 4,
 "nbformat_minor": 4
}
